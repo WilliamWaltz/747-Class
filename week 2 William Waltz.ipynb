n = int(input("Number:"))
fac = 1
if n == 0:
    print("Factorial of 0 is 1")
else:
    for i in range(1, n + 1):
        fac =fac * 1
    print("Factorial is",fac)