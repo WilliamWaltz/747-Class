{
 "cells": [
  {
   "attachments": {},
   "cell_type": "markdown",
   "metadata": {},
   "source": [
    "## Lab Assignment: Implementing Basic Control Structures and Functions\n",
    "Student:     **William Waltz**\n",
    "\n",
    "### Objective: To apply knowledge of basic control structures and functions in Python.\n",
    "\n",
    "### Instructions:\n",
    "In this lab assignment, you will be given the following seven problems to solve. Each problem requires you to implement a solution using basic control structures and functions in Python. Read the problem statement carefully and make sure you understand the requirements before starting to code.\n",
    "\n",
    "1.  Write a Python function to find the maximum of two numbers.\n",
    "2.  Write a Python function to find the minimum of two numbers.\n",
    "3.  Write a Python function to check if a given number is even or odd.\n",
    "4.  Write a Python program to print all the even numbers from 1 to 100.\n",
    "5.  Write a Python program to print all the odd numbers from 1 to 100.\n",
    "6.  Write a Python program to find the sum of all the numbers from 1 to 100.\n",
    "7.  Write a Python program to find the factorial of a given number.\n",
    "\n",
    "### Deliverable:\n",
    "Modify this notebook to include the python code as well as any documentation related to your submission.  Submit the notebook as your response in Blackboard.\n",
    "\n",
    "### Grading Criteria:\n",
    "\n",
    "Your lab assignment will be graded based on the following criteria:\n",
    "\n",
    "- Correctness of the implementation\n",
    "- Proper use of basic control structures and functions\n",
    "- Code efficiency\n",
    "- Clarity and readability of the code\n",
    "- Compliance with the instructions and deliverables.\n",
    "\n",
    "### Student Submission\n",
    "1.  Write a Python function to find the maximum of two numbers."
   ]
  },
  {
   "cell_type": "code",
   "execution_count": 7,
   "metadata": {},
   "outputs": [
    {
     "name": "stdout",
     "output_type": "stream",
     "text": [
      "(28, 88)\n"
     ]
    }
   ],
   "source": [
    "\n",
    "max_number = (28, 88)\n",
    "print(max_number)\n",
    "\n",
    "\n"
   ]
  },
  {
   "cell_type": "markdown",
   "metadata": {},
   "source": [
    "2.  Write a Python function to find the minimum of two numbers."
   ]
  },
  {
   "cell_type": "code",
   "execution_count": 8,
   "metadata": {},
   "outputs": [
    {
     "name": "stdout",
     "output_type": "stream",
     "text": [
      "28\n"
     ]
    }
   ],
   "source": [
    "min_number = min(28, 88, 42)\n",
    "print(min_number)"
   ]
  },
  {
   "attachments": {},
   "cell_type": "markdown",
   "metadata": {},
   "source": [
    "3.  Write a Python function to check if a given number is even or odd."
   ]
  },
  {
   "cell_type": "code",
   "execution_count": 2,
   "metadata": {},
   "outputs": [
    {
     "name": "stdout",
     "output_type": "stream",
     "text": [
      "Odd\n"
     ]
    }
   ],
   "source": [
    "number = int(input(\"Enter number: \"))\n",
    "if (number %2 == 0):\n",
    "    print(\"Even\")\n",
    "else:\n",
    "    print(\"Odd\")"
   ]
  },
  {
   "attachments": {},
   "cell_type": "markdown",
   "metadata": {},
   "source": [
    "4.  Write a Python program to print all the even numbers from 1 to 100."
   ]
  },
  {
   "cell_type": "code",
   "execution_count": 3,
   "metadata": {},
   "outputs": [
    {
     "name": "stdout",
     "output_type": "stream",
     "text": [
      "0\n",
      "2\n",
      "4\n",
      "6\n",
      "8\n",
      "10\n",
      "12\n",
      "14\n",
      "16\n",
      "18\n",
      "20\n",
      "22\n",
      "24\n",
      "26\n",
      "28\n",
      "30\n",
      "32\n",
      "34\n",
      "36\n",
      "38\n",
      "40\n",
      "42\n",
      "44\n",
      "46\n",
      "48\n",
      "50\n",
      "52\n",
      "54\n",
      "56\n",
      "58\n",
      "60\n",
      "62\n",
      "64\n",
      "66\n",
      "68\n",
      "70\n",
      "72\n",
      "74\n",
      "76\n",
      "78\n",
      "80\n",
      "82\n",
      "84\n",
      "86\n",
      "88\n",
      "90\n",
      "92\n",
      "94\n",
      "96\n",
      "98\n"
     ]
    }
   ],
   "source": [
    "for z in range (100):\n",
    "    if z % 2 == 0:\n",
    "        print(z)"
   ]
  },
  {
   "attachments": {},
   "cell_type": "markdown",
   "metadata": {},
   "source": [
    "5.  Write a Python program to print all the odd numbers from 1 to 100."
   ]
  },
  {
   "cell_type": "code",
   "execution_count": 4,
   "metadata": {},
   "outputs": [
    {
     "name": "stdout",
     "output_type": "stream",
     "text": [
      "1\n",
      "3\n",
      "5\n",
      "7\n",
      "9\n",
      "11\n",
      "13\n",
      "15\n",
      "17\n",
      "19\n",
      "21\n",
      "23\n",
      "25\n",
      "27\n",
      "29\n",
      "31\n",
      "33\n",
      "35\n",
      "37\n",
      "39\n",
      "41\n",
      "43\n",
      "45\n",
      "47\n",
      "49\n",
      "51\n",
      "53\n",
      "55\n",
      "57\n",
      "59\n",
      "61\n",
      "63\n",
      "65\n",
      "67\n",
      "69\n",
      "71\n",
      "73\n",
      "75\n",
      "77\n",
      "79\n",
      "81\n",
      "83\n",
      "85\n",
      "87\n",
      "89\n",
      "91\n",
      "93\n",
      "95\n",
      "97\n",
      "99\n"
     ]
    }
   ],
   "source": [
    "for z in range(100):\n",
    "    if z % 2 != 0:\n",
    "        print(z)"
   ]
  },
  {
   "attachments": {},
   "cell_type": "markdown",
   "metadata": {},
   "source": [
    "6.  Write a Python program to find the sum of all the numbers from 1 to 100."
   ]
  },
  {
   "cell_type": "code",
   "execution_count": 7,
   "metadata": {},
   "outputs": [
    {
     "name": "stdout",
     "output_type": "stream",
     "text": [
      "4950\n"
     ]
    }
   ],
   "source": [
    "z = range(100)\n",
    "print(sum)"
   ]
  },
  {
   "attachments": {},
   "cell_type": "markdown",
   "metadata": {},
   "source": [
    "7.  Write a Python program to find the factorial of a given number."
   ]
  },
  {
   "cell_type": "code",
   "execution_count": 2,
   "metadata": {},
   "outputs": [
    {
     "name": "stdout",
     "output_type": "stream",
     "text": [
      "Factorial is 1\n"
     ]
    }
   ],
   "source": [
    "n = int(input(\"Number:\"))\n",
    "fac = 1\n",
    "if n == 0:\n",
    "    print(\"Factorial of 0 is 1\")\n",
    "else:\n",
    "    for i in range(1, n + 1):\n",
    "        fac =fac * 1\n",
    "    print(\"Factorial is\",fac)\n"
   ]
  }
 ],
 "metadata": {
  "kernelspec": {
   "display_name": "Python 3 (ipykernel)",
   "language": "python",
   "name": "python3"
  },
  "language_info": {
   "codemirror_mode": {
    "name": "ipython",
    "version": 3
   },
   "file_extension": ".py",
   "mimetype": "text/x-python",
   "name": "python",
   "nbconvert_exporter": "python",
   "pygments_lexer": "ipython3",
   "version": "3.12.1"
  },
  "orig_nbformat": 4
 },
 "nbformat": 4,
 "nbformat_minor": 2
}
