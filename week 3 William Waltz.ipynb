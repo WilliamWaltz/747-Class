{
 "cells": [
  {
   "cell_type": "markdown",
   "metadata": {},
   "source": [
    "## Lab Assignment: Numerical Computing using NumPy\n",
    "Student:     **William Waltz**\n",
    "\n",
    "### Objective: To introduce numerical computing in Python using NumPy and understand NumPy arrays and operations.\n",
    "\n",
    "### Instructions:\n",
    "In this lab assignment, you will be introduced to numerical computing in Python using NumPy. You will learn how to create and manipulate NumPy arrays, perform mathematical operations on them, and apply built-in functions to analyze and transform the data.\n",
    "\n",
    "You will be provided with the following five problems to solve. Please read the problem statement carefully and implement the solution using NumPy.\n",
    "\n",
    "1. Create a 1D NumPy array of size 10, filled with zeros.\n",
    "2. Create a 2D NumPy array with shape (3, 4), filled with random values.\n",
    "3. Create a 3D NumPy array with shape (2, 3, 4), filled with ones.\n",
    "4. Add two NumPy arrays element-wise.\n",
    "5. Multiply two NumPy arrays element-wise.\n",
    "\n",
    "### Deliverable:\n",
    "Modify this notebook to include the python code as well as any documentation related to your submission.  Submit the notebook as your response in Blackboard.\n",
    "\n",
    "### Grading Criteria:\n",
    "\n",
    "Your lab assignment will be graded based on the following criteria:\n",
    "\n",
    "- Correctness of the implementation\n",
    "- Proper use of basic control structures and functions\n",
    "- Code efficiency\n",
    "- Clarity and readability of the code\n",
    "- Compliance with the instructions and deliverables.\n",
    "\n",
    "### Student Submission\n",
    "1. Create a 1D NumPy array of size 10, filled with zeros."
   ]
  },
  {
   "cell_type": "code",
   "execution_count": 6,
   "metadata": {},
   "outputs": [
    {
     "data": {
      "text/plain": [
       "array([0., 0., 0., 0., 0., 0., 0., 0., 0., 0.])"
      ]
     },
     "execution_count": 6,
     "metadata": {},
     "output_type": "execute_result"
    }
   ],
   "source": [
    "import numpy as np\n",
    "np.zeros(10)\n"
   ]
  },
  {
   "attachments": {},
   "cell_type": "markdown",
   "metadata": {},
   "source": [
    "2. Create a 2D NumPy array with shape (3, 4), filled with random values."
   ]
  },
  {
   "cell_type": "code",
   "execution_count": 19,
   "metadata": {},
   "outputs": [
    {
     "data": {
      "text/plain": [
       "array([[0.94735409, 0.8940839 , 0.44272547, 0.43182318],\n",
       "       [0.67146708, 0.04562615, 0.72632194, 0.14266559],\n",
       "       [0.33205936, 0.96422914, 0.35485241, 0.48291525]])"
      ]
     },
     "execution_count": 19,
     "metadata": {},
     "output_type": "execute_result"
    }
   ],
   "source": [
    "import numpy as np\n",
    "np.random.rand(3, 4)"
   ]
  },
  {
   "attachments": {},
   "cell_type": "markdown",
   "metadata": {},
   "source": [
    "3. Create a 3D NumPy array with shape (2, 3, 4), filled with ones."
   ]
  },
  {
   "cell_type": "code",
   "execution_count": 31,
   "metadata": {},
   "outputs": [
    {
     "data": {
      "text/plain": [
       "array([[[1., 1., 1., 1.],\n",
       "        [1., 1., 1., 1.],\n",
       "        [1., 1., 1., 1.]],\n",
       "\n",
       "       [[1., 1., 1., 1.],\n",
       "        [1., 1., 1., 1.],\n",
       "        [1., 1., 1., 1.]]])"
      ]
     },
     "execution_count": 31,
     "metadata": {},
     "output_type": "execute_result"
    }
   ],
   "source": [
    "import numpy as np\n",
    "x = np.ones((2, 3, 4))\n",
    "x\n"
   ]
  },
  {
   "attachments": {},
   "cell_type": "markdown",
   "metadata": {},
   "source": [
    "4. Add two NumPy arrays element-wise."
   ]
  },
  {
   "cell_type": "code",
   "execution_count": 33,
   "metadata": {},
   "outputs": [
    {
     "data": {
      "text/plain": [
       "48"
      ]
     },
     "execution_count": 33,
     "metadata": {},
     "output_type": "execute_result"
    }
   ],
   "source": [
    "import numpy as np\n",
    "a = np.array(10)\n",
    "b = np.array(38)\n",
    "c = np.add(a, b)\n",
    "c"
   ]
  },
  {
   "attachments": {},
   "cell_type": "markdown",
   "metadata": {},
   "source": [
    "5. Multiply two NumPy arrays element-wise."
   ]
  },
  {
   "cell_type": "code",
   "execution_count": 66,
   "metadata": {},
   "outputs": [
    {
     "data": {
      "text/plain": [
       "array([[0.02780227, 0.35288226, 0.22832986, 0.27797734],\n",
       "       [0.06658228, 0.63953651, 0.64295181, 0.02477957],\n",
       "       [0.86878988, 0.10843403, 0.6551192 , 0.15003216]])"
      ]
     },
     "execution_count": 66,
     "metadata": {},
     "output_type": "execute_result"
    }
   ],
   "source": [
    "import numpy as np\n",
    "a = np.random.rand(3, 4)\n",
    "b = np.random.rand(3, 4)\n",
    "a\n",
    "b\n",
    "a * b"
   ]
  }
 ],
 "metadata": {
  "kernelspec": {
   "display_name": "anaconda-panel-2023.05-py310",
   "language": "python",
   "name": "conda-env-anaconda-panel-2023.05-py310-py"
  },
  "language_info": {
   "codemirror_mode": {
    "name": "ipython",
    "version": 3
   },
   "file_extension": ".py",
   "mimetype": "text/x-python",
   "name": "python",
   "nbconvert_exporter": "python",
   "pygments_lexer": "ipython3",
   "version": "3.11.5"
  }
 },
 "nbformat": 4,
 "nbformat_minor": 4
}
