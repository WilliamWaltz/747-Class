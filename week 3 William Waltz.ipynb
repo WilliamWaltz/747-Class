{
 "cells": [
  {
   "attachments": {},
   "cell_type": "markdown",
   "metadata": {},
   "source": [
    "## Lab Assignment: Numerical Computing using NumPy\n",
    "Student:     **INSERT YOUR NAME HERE**\n",
    "\n",
    "### Objective: To introduce numerical computing in Python using NumPy and understand NumPy arrays and operations.\n",
    "\n",
    "### Instructions:\n",
    "In this lab assignment, you will be introduced to numerical computing in Python using NumPy. You will learn how to create and manipulate NumPy arrays, perform mathematical operations on them, and apply built-in functions to analyze and transform the data.\n",
    "\n",
    "You will be provided with the following five problems to solve. Please read the problem statement carefully and implement the solution using NumPy.\n",
    "\n",
    "1. Create a 1D NumPy array of size 10, filled with zeros.\n",
    "2. Create a 2D NumPy array with shape (3, 4), filled with random values.\n",
    "3. Create a 3D NumPy array with shape (2, 3, 4), filled with ones.\n",
    "4. Add two NumPy arrays element-wise.\n",
    "5. Multiply two NumPy arrays element-wise.\n",
    "\n",
    "### Deliverable:\n",
    "Modify this notebook to include the python code as well as any documentation related to your submission.  Submit the notebook as your response in Blackboard.\n",
    "\n",
    "### Grading Criteria:\n",
    "\n",
    "Your lab assignment will be graded based on the following criteria:\n",
    "\n",
    "- Correctness of the implementation\n",
    "- Proper use of basic control structures and functions\n",
    "- Code efficiency\n",
    "- Clarity and readability of the code\n",
    "- Compliance with the instructions and deliverables.\n",
    "\n",
    "### Student Submission\n",
    "1. Create a 1D NumPy array of size 10, filled with zeros."
   ]
  },
  {
   "cell_type": "code",
   "execution_count": null,
   "metadata": {},
   "outputs": [],
   "source": [
    "\n"
   ]
  },
  {
   "attachments": {},
   "cell_type": "markdown",
   "metadata": {},
   "source": [
    "2. Create a 2D NumPy array with shape (3, 4), filled with random values."
   ]
  },
  {
   "cell_type": "code",
   "execution_count": null,
   "metadata": {},
   "outputs": [],
   "source": []
  },
  {
   "attachments": {},
   "cell_type": "markdown",
   "metadata": {},
   "source": [
    "3. Create a 3D NumPy array with shape (2, 3, 4), filled with ones."
   ]
  },
  {
   "cell_type": "code",
   "execution_count": null,
   "metadata": {},
   "outputs": [],
   "source": []
  },
  {
   "attachments": {},
   "cell_type": "markdown",
   "metadata": {},
   "source": [
    "4. Add two NumPy arrays element-wise."
   ]
  },
  {
   "cell_type": "code",
   "execution_count": null,
   "metadata": {},
   "outputs": [],
   "source": []
  },
  {
   "attachments": {},
   "cell_type": "markdown",
   "metadata": {},
   "source": [
    "5. Multiply two NumPy arrays element-wise."
   ]
  },
  {
   "cell_type": "code",
   "execution_count": null,
   "metadata": {},
   "outputs": [],
   "source": []
  }
 ],
 "metadata": {
  "kernelspec": {
   "display_name": "Python 3",
   "language": "python",
   "name": "python3"
  },
  "language_info": {
   "name": "python",
   "version": "3.10.0"
  },
  "orig_nbformat": 4
 },
 "nbformat": 4,
 "nbformat_minor": 2
}
